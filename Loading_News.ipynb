{
 "cells": [
  {
   "cell_type": "markdown",
   "metadata": {},
   "source": [
    "#Cбор данных\n",
    "\n",
    "Рассмотрим сайт  http://fontanka.ru. На данном сайте нас интересует архив <a href =  'http://www.fontanka.ru/fontanka/arc/2015/all.html'>новостей</a> за 2015 год. Получим ссылки на каждый день 2015 года и сохраним в отдельный файл."
   ]
  },
  {
   "cell_type": "code",
   "execution_count": null,
   "metadata": {
    "collapsed": true
   },
   "outputs": [],
   "source": [
    "# необходимые пакеты \n",
    "import lxml.html\n",
    "import requests\n",
    "import codecs\n",
    "import os\n",
    "import shutil\n",
    "import time\n",
    "import numpy as np\n",
    "import matplotlib.pyplot as plt\n",
    "import seaborn\n",
    "%matplotlib inline"
   ]
  },
  {
   "cell_type": "code",
   "execution_count": null,
   "metadata": {
    "collapsed": true
   },
   "outputs": [],
   "source": [
    "#получим страницу с архивом за январь\n",
    "path = \"http://www.fontanka.ru/fontanka/arc/2015/all.html\"\n",
    "response = requests.get(path)\n",
    "if response.status_code == 200:\n",
    "    html = response.content\n",
    "    tree = lxml.html.document_fromstring(html)\n",
    "    \n",
    "    links = tree.xpath(\"\"\"//div[@class='calendar-inner']/table[@class='blank_year']//tr/td[@class='blank_monthcell']\n",
    "        /table/tbody/tr/td[@class='dom']/a/@href\"\"\")\n",
    "    with open('fontanka-year2015-links', 'w') as ouf:\n",
    "        for link in links:\n",
    "            ouf.write(\"http://fontanka.ru%s\\n\"%(link))"
   ]
  },
  {
   "cell_type": "markdown",
   "metadata": {},
   "source": [
    "Теперь имеются ссылки на архив новостей на каждый день 2015 года. Нужно перейти по каждой ссылке на соответствующую страницу. На этой странице скачать ссылки на новости. <br>\n",
    "Каждая новость имеют категорию. Будем учитывать это."
   ]
  },
  {
   "cell_type": "code",
   "execution_count": null,
   "metadata": {
    "collapsed": true
   },
   "outputs": [],
   "source": [
    "with codecs.open('news_category_links', 'w', encoding=\"utf8\") as ouf:\n",
    "    with open('fontanka-year2015-links', 'r') as inf:\n",
    "        summ = 0\n",
    "        for link in inf:\n",
    "            print link.strip(),\n",
    "            response = requests.get(link)\n",
    "            if response.status_code == 200:\n",
    "                html = response.content\n",
    "                tree = lxml.html.document_fromstring(html)\n",
    "\n",
    "                links = tree.xpath('''/html/body/div[@class=\"wrapper clearfix\"]/div[@class=\"main-col \n",
    "                clearfix\"]/div[@class=\"big_center ml30 fll\"]/div[@class=\"calendar-widget\"]\n",
    "                /div[@class=\"calendar-inner transition open\"]/div[@class=\"calendar-list\"]/div\n",
    "                [@class=\"calendar-item\"]/div[@class=\"calendar-item-title\"]/a''')\n",
    "                print len(links),\n",
    "                summ += len(links)\n",
    "                print summ\n",
    "                for l in links:\n",
    "                    link = l.attrib['href']\n",
    "                    if link[0] != \"/\":\n",
    "                        continue\n",
    "                    category = l.getnext().getchildren()[0].text_content()\n",
    "                    \n",
    "                    ouf.write(\"%s\\t%s\\n\" % (category, link))          "
   ]
  },
  {
   "cell_type": "markdown",
   "metadata": {},
   "source": [
    "Осталось скачать сами новости."
   ]
  },
  {
   "cell_type": "code",
   "execution_count": null,
   "metadata": {
    "collapsed": true
   },
   "outputs": [],
   "source": [
    "main_path = u\"http://www.fontanka.ru\"\n",
    "path_for_saving_news = u'./all_news/'\n",
    "number_of_news_downloaded = 0\n",
    "\n",
    "cnt = 0\n",
    "threshold = 47121\n",
    "with codecs.open('news_category_links', 'r', encoding='utf8') as inf:\n",
    "    for line in inf:\n",
    "        cnt += 1\n",
    "        print cnt, \n",
    "        if cnt < threshold:\n",
    "            continue\n",
    "\t\n",
    "        category, link = line.split('\\t')\n",
    "        link = link.strip()\n",
    "        try:\n",
    "            response = requests.get(main_path + link)\n",
    "        except:\n",
    "            print \"Something bad (no response) with %s\"%link\n",
    "            continue\n",
    "        \n",
    "        if category not in os.listdir(path_for_saving_news):\n",
    "            os.mkdir(path_for_saving_news + category)\n",
    "        \n",
    "        path_for_news = path_for_saving_news[2:] + category + '/'\n",
    "        \n",
    "        if response.status_code == 200:\n",
    "            \n",
    "            try:\n",
    "                number_of_news_downloaded += 1\n",
    "                html = response.content\n",
    "                tree = lxml.html.document_fromstring(html)\n",
    "                txt = tree.xpath(\"\"\"//div[@class='article']/div[@class='article_desc']\n",
    "                /div[@class='article_fulltext']/p/text()\"\"\")\n",
    "                filename = link.replace(\"/\", \"_\")\n",
    "                with codecs.open(path_for_news+filename, 'w', encoding=\"utf8\") as ouf:\n",
    "                    for t in txt:\n",
    "                        ouf.write(t)\n",
    "            except:\n",
    "                print \"Something bad with %s\"%link\n",
    "                    \n",
    "        else:\n",
    "            print \"Something bad with %s\"%link\n",
    "        if (number_of_news_downloaded + threshold) % 10 == 1:\n",
    "            print \"%d \\n\"%(number_of_news_downloaded + threshold), \n",
    "            time.sleep(0.5)"
   ]
  },
  {
   "cell_type": "markdown",
   "metadata": {},
   "source": [
    "Загрузилось около 47 тысяч статей. <br>\n",
    "Но среди полученных файлов есть пустые файлы (статьи), так как иногда ссылки вели на сторонние сайты. Избавимся от этого мусора. Также удалим папки в которых менее 100 статей."
   ]
  },
  {
   "cell_type": "code",
   "execution_count": null,
   "metadata": {
    "collapsed": true
   },
   "outputs": [],
   "source": [
    "path_with_news = './all_news/'\n",
    "for d in os.listdir(path_with_news):\n",
    "    path = path_with_news + d\n",
    "    nFilesInDir = 0\n",
    "    nDeletedFilesInDir = 0\n",
    "    if os.path.isdir(path):\n",
    "        print \"Папка: '%s'\"%d\n",
    "        \n",
    "        for f in os.listdir(path):\n",
    "            filePath = path + '/' + f\n",
    "            if os.path.getsize(filePath) < 100:\n",
    "                nDeletedFilesInDir += 1\n",
    "                os.remove(filePath)\n",
    "            else:\n",
    "                nFilesInDir += 1\n",
    "    print \"\\tКоличество хороших файлов: %d, количество удаленных файлов: %d\"%(nFilesInDir, nDeletedFilesInDir)\n",
    "    if nFilesInDir < 100 :\n",
    "        res = \"Папка удалена\"\n",
    "        shutil.rmtree(path)\n",
    "    else:\n",
    "        res = \"Папка оставлена\"\n",
    "    print \"\\tРезультат: %s\"%res"
   ]
  }
 ],
 "metadata": {
  "kernelspec": {
   "display_name": "Python 2",
   "language": "python",
   "name": "python2"
  },
  "language_info": {
   "codemirror_mode": {
    "name": "ipython",
    "version": 2
   },
   "file_extension": ".py",
   "mimetype": "text/x-python",
   "name": "python",
   "nbconvert_exporter": "python",
   "pygments_lexer": "ipython2",
   "version": "2.7.10"
  }
 },
 "nbformat": 4,
 "nbformat_minor": 0
}
